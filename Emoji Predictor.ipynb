{
 "cells": [
  {
   "cell_type": "markdown",
   "metadata": {},
   "source": [
    "# Emoji Predictor Project\n",
    "----------"
   ]
  },
  {
   "cell_type": "markdown",
   "metadata": {},
   "source": [
    "### let's get the modules"
   ]
  },
  {
   "cell_type": "code",
   "execution_count": 1,
   "metadata": {},
   "outputs": [],
   "source": [
    "import numpy as np\n",
    "import pandas as pd \n",
    "import tensorflow as tf\n",
    "import keras as kr"
   ]
  },
  {
   "cell_type": "code",
   "execution_count": 7,
   "metadata": {},
   "outputs": [],
   "source": [
    "# Importing datasets\n",
    "train_data=pd.read_csv(r'C:\\Users\\bhavy\\OneDrive\\Documents\\csv files\\emojiprediction\\emoji.csv',header=None)\n",
    "test_data=pd.read_csv(r'C:\\Users\\bhavy\\OneDrive\\Documents\\csv files\\emojiprediction\\emoji_test.csv',header=None)"
   ]
  },
  {
   "cell_type": "markdown",
   "metadata": {},
   "source": [
    "### Analyzing our data"
   ]
  },
  {
   "cell_type": "code",
   "execution_count": 8,
   "metadata": {},
   "outputs": [
    {
     "data": {
      "text/html": [
       "<div>\n",
       "<style scoped>\n",
       "    .dataframe tbody tr th:only-of-type {\n",
       "        vertical-align: middle;\n",
       "    }\n",
       "\n",
       "    .dataframe tbody tr th {\n",
       "        vertical-align: top;\n",
       "    }\n",
       "\n",
       "    .dataframe thead th {\n",
       "        text-align: right;\n",
       "    }\n",
       "</style>\n",
       "<table border=\"1\" class=\"dataframe\">\n",
       "  <thead>\n",
       "    <tr style=\"text-align: right;\">\n",
       "      <th></th>\n",
       "      <th>0</th>\n",
       "      <th>1</th>\n",
       "      <th>2</th>\n",
       "      <th>3</th>\n",
       "    </tr>\n",
       "  </thead>\n",
       "  <tbody>\n",
       "    <tr>\n",
       "      <th>0</th>\n",
       "      <td>never talk to me again</td>\n",
       "      <td>3</td>\n",
       "      <td>NaN</td>\n",
       "      <td>NaN</td>\n",
       "    </tr>\n",
       "    <tr>\n",
       "      <th>1</th>\n",
       "      <td>I am proud of your achievements</td>\n",
       "      <td>2</td>\n",
       "      <td>NaN</td>\n",
       "      <td>NaN</td>\n",
       "    </tr>\n",
       "    <tr>\n",
       "      <th>2</th>\n",
       "      <td>It is the worst day in my life</td>\n",
       "      <td>3</td>\n",
       "      <td>NaN</td>\n",
       "      <td>NaN</td>\n",
       "    </tr>\n",
       "    <tr>\n",
       "      <th>3</th>\n",
       "      <td>Miss you so much</td>\n",
       "      <td>0</td>\n",
       "      <td>NaN</td>\n",
       "      <td>[0]</td>\n",
       "    </tr>\n",
       "    <tr>\n",
       "      <th>4</th>\n",
       "      <td>food is life</td>\n",
       "      <td>4</td>\n",
       "      <td>NaN</td>\n",
       "      <td>NaN</td>\n",
       "    </tr>\n",
       "  </tbody>\n",
       "</table>\n",
       "</div>"
      ],
      "text/plain": [
       "                                 0  1   2     3\n",
       "0           never talk to me again  3 NaN   NaN\n",
       "1  I am proud of your achievements  2 NaN   NaN\n",
       "2   It is the worst day in my life  3 NaN   NaN\n",
       "3                 Miss you so much  0 NaN   [0]\n",
       "4                     food is life  4 NaN   NaN"
      ]
     },
     "execution_count": 8,
     "metadata": {},
     "output_type": "execute_result"
    }
   ],
   "source": [
    "train_data.head()"
   ]
  },
  {
   "cell_type": "code",
   "execution_count": 9,
   "metadata": {},
   "outputs": [
    {
     "data": {
      "text/html": [
       "<div>\n",
       "<style scoped>\n",
       "    .dataframe tbody tr th:only-of-type {\n",
       "        vertical-align: middle;\n",
       "    }\n",
       "\n",
       "    .dataframe tbody tr th {\n",
       "        vertical-align: top;\n",
       "    }\n",
       "\n",
       "    .dataframe thead th {\n",
       "        text-align: right;\n",
       "    }\n",
       "</style>\n",
       "<table border=\"1\" class=\"dataframe\">\n",
       "  <thead>\n",
       "    <tr style=\"text-align: right;\">\n",
       "      <th></th>\n",
       "      <th>0</th>\n",
       "      <th>1</th>\n",
       "    </tr>\n",
       "  </thead>\n",
       "  <tbody>\n",
       "    <tr>\n",
       "      <th>0</th>\n",
       "      <td>I want to eat\\t</td>\n",
       "      <td>4</td>\n",
       "    </tr>\n",
       "    <tr>\n",
       "      <th>1</th>\n",
       "      <td>he did not answer\\t</td>\n",
       "      <td>3</td>\n",
       "    </tr>\n",
       "    <tr>\n",
       "      <th>2</th>\n",
       "      <td>he got a raise\\t</td>\n",
       "      <td>2</td>\n",
       "    </tr>\n",
       "    <tr>\n",
       "      <th>3</th>\n",
       "      <td>she got me a present\\t</td>\n",
       "      <td>0</td>\n",
       "    </tr>\n",
       "    <tr>\n",
       "      <th>4</th>\n",
       "      <td>ha ha ha it was so funny\\t</td>\n",
       "      <td>2</td>\n",
       "    </tr>\n",
       "  </tbody>\n",
       "</table>\n",
       "</div>"
      ],
      "text/plain": [
       "                            0  1\n",
       "0             I want to eat\\t  4\n",
       "1         he did not answer\\t  3\n",
       "2            he got a raise\\t  2\n",
       "3      she got me a present\\t  0\n",
       "4  ha ha ha it was so funny\\t  2"
      ]
     },
     "execution_count": 9,
     "metadata": {},
     "output_type": "execute_result"
    }
   ],
   "source": [
    "test_data.head()"
   ]
  },
  {
   "cell_type": "code",
   "execution_count": 11,
   "metadata": {},
   "outputs": [
    {
     "data": {
      "text/plain": [
       "array([3, 2, 0, 4, 1], dtype=int64)"
      ]
     },
     "execution_count": 11,
     "metadata": {},
     "output_type": "execute_result"
    }
   ],
   "source": [
    "train_data[1].unique()"
   ]
  },
  {
   "cell_type": "markdown",
   "metadata": {},
   "source": [
    "these values represents classes where each of these will donate one single emoji"
   ]
  },
  {
   "cell_type": "markdown",
   "metadata": {},
   "source": [
    "# Using Emojize module"
   ]
  },
  {
   "cell_type": "code",
   "execution_count": 16,
   "metadata": {},
   "outputs": [],
   "source": [
    "!pip install emoji\n",
    "import emoji     # this module is used for visualizing our emojis"
   ]
  },
  {
   "cell_type": "code",
   "execution_count": 14,
   "metadata": {},
   "outputs": [
    {
     "data": {
      "text/plain": [
       "'⚾'"
      ]
     },
     "execution_count": 14,
     "metadata": {},
     "output_type": "execute_result"
    }
   ],
   "source": [
    "# there are three ways to visualize emojis\n",
    "# i) using emojize library\n",
    "emoji.emojize(':baseball:')"
   ]
  },
  {
   "cell_type": "code",
   "execution_count": 17,
   "metadata": {},
   "outputs": [
    {
     "data": {
      "text/plain": [
       "'😁'"
      ]
     },
     "execution_count": 17,
     "metadata": {},
     "output_type": "execute_result"
    }
   ],
   "source": [
    "emoji.emojize(':beaming_face_with_smiling_eyes:')"
   ]
  },
  {
   "cell_type": "code",
   "execution_count": 19,
   "metadata": {},
   "outputs": [
    {
     "name": "stdout",
     "output_type": "stream",
     "text": [
      "😀\n"
     ]
    }
   ],
   "source": [
    "# ii) using CLDR name\n",
    "print(\"\\N{Grinning Face}\")"
   ]
  },
  {
   "cell_type": "code",
   "execution_count": 20,
   "metadata": {},
   "outputs": [
    {
     "name": "stdout",
     "output_type": "stream",
     "text": [
      "😀\n"
     ]
    }
   ],
   "source": [
    "# iii) using unicodes\n",
    "print('\\U0001f600')"
   ]
  },
  {
   "cell_type": "markdown",
   "metadata": {},
   "source": [
    "now we will create a dictionary to tell the system which value represents which emoji"
   ]
  },
  {
   "cell_type": "code",
   "execution_count": 21,
   "metadata": {},
   "outputs": [],
   "source": [
    "# creating a dictionary for getting emojis\n",
    "emoji_dictionary={\"0\": \"\\u2764\\uFE0F\",\n",
    "                 \"1\":\":baseball:\",\n",
    "                 \"2\":\":beaming_face_with_smiling_eyes:\",\n",
    "                 \"3\":\":downcast_face_with_sweat:\",\n",
    "                \"4\":\":fork_and_knife:\"}"
   ]
  },
  {
   "cell_type": "code",
   "execution_count": 23,
   "metadata": {},
   "outputs": [
    {
     "name": "stdout",
     "output_type": "stream",
     "text": [
      "❤️\n",
      "⚾\n",
      "😁\n",
      "😓\n",
      "🍴\n"
     ]
    }
   ],
   "source": [
    "for i in emoji_dictionary.values():\n",
    "    print(emoji.emojize(i))"
   ]
  },
  {
   "cell_type": "code",
   "execution_count": 24,
   "metadata": {},
   "outputs": [],
   "source": [
    "# getting training data from training dataset\n",
    "train_x=train_data[0]\n",
    "train_y=train_data[1]"
   ]
  },
  {
   "cell_type": "code",
   "execution_count": 25,
   "metadata": {},
   "outputs": [],
   "source": [
    "# getting test data\n",
    "test_x=test_data[0]\n",
    "test_y=test_data[1]"
   ]
  },
  {
   "cell_type": "code",
   "execution_count": 28,
   "metadata": {},
   "outputs": [],
   "source": [
    "# now converting target values(i.e value to be predicted) to categorical values\n",
    "train_y=kr.utils.to_categorical(train_y)\n",
    "test_y=kr.utils.to_categorical(test_y)"
   ]
  },
  {
   "cell_type": "code",
   "execution_count": 29,
   "metadata": {},
   "outputs": [
    {
     "data": {
      "text/plain": [
       "array([0., 0., 0., 1., 0.], dtype=float32)"
      ]
     },
     "execution_count": 29,
     "metadata": {},
     "output_type": "execute_result"
    }
   ],
   "source": [
    "train_y[0]"
   ]
  },
  {
   "cell_type": "code",
   "execution_count": 30,
   "metadata": {},
   "outputs": [],
   "source": [
    "# now getting file named 'glove' to convert words to machine understandable form\n",
    "embeddings={}\n",
    "with open(r'C:\\Users\\bhavy\\OneDrive\\Documents\\glove.6B.50d.txt',encoding=\"UTF-8\") as f:\n",
    "    for line in f:\n",
    "        values=line.split()\n",
    "        word=values[0]\n",
    "        coeffs=np.asarray(values[1:],dtype='float32')\n",
    "        embeddings[word]=coeffs\n",
    "        "
   ]
  },
  {
   "cell_type": "markdown",
   "metadata": {},
   "source": [
    " link for downloading glove file: https://www.kaggle.com/watts2/glove6b50dtxt"
   ]
  },
  {
   "cell_type": "code",
   "execution_count": 31,
   "metadata": {},
   "outputs": [
    {
     "data": {
      "text/plain": [
       "(50,)"
      ]
     },
     "execution_count": 31,
     "metadata": {},
     "output_type": "execute_result"
    }
   ],
   "source": [
    "embeddings['the'].shape"
   ]
  },
  {
   "cell_type": "code",
   "execution_count": 32,
   "metadata": {},
   "outputs": [],
   "source": [
    "# Creating a function to get numeric values for each word\n",
    "def get_emb(X):\n",
    "    matrix=np.zeros((X.shape[0],10,50))\n",
    "    for ix in range(X.shape[0]):\n",
    "        X[ix]=X[ix].split()\n",
    "        for jx in range(len(X[ix])):\n",
    "            matrix[ix][jx]=embeddings[X[ix][jx].lower()]\n",
    "    return matrix"
   ]
  },
  {
   "cell_type": "code",
   "execution_count": 33,
   "metadata": {},
   "outputs": [
    {
     "name": "stderr",
     "output_type": "stream",
     "text": [
      "C:\\Users\\bhavy\\Anaconda3\\lib\\site-packages\\ipykernel_launcher.py:4: SettingWithCopyWarning: \n",
      "A value is trying to be set on a copy of a slice from a DataFrame\n",
      "\n",
      "See the caveats in the documentation: https://pandas.pydata.org/pandas-docs/stable/user_guide/indexing.html#returning-a-view-versus-a-copy\n",
      "  after removing the cwd from sys.path.\n"
     ]
    }
   ],
   "source": [
    "# Stroring the numerical values of features into emb_train and emb_test\n",
    "emb_train_x=get_emb(train_x)\n",
    "emb_test_x=get_emb(test_x)"
   ]
  },
  {
   "cell_type": "markdown",
   "metadata": {},
   "source": [
    "# Creating a Recurrent Neural Network"
   ]
  },
  {
   "cell_type": "code",
   "execution_count": 36,
   "metadata": {},
   "outputs": [
    {
     "name": "stdout",
     "output_type": "stream",
     "text": [
      "Model: \"sequential_2\"\n",
      "_________________________________________________________________\n",
      "Layer (type)                 Output Shape              Param #   \n",
      "=================================================================\n",
      "simple_rnn_3 (SimpleRNN)     (None, 10, 64)            7360      \n",
      "_________________________________________________________________\n",
      "dropout_3 (Dropout)          (None, 10, 64)            0         \n",
      "_________________________________________________________________\n",
      "simple_rnn_4 (SimpleRNN)     (None, 64)                8256      \n",
      "_________________________________________________________________\n",
      "dropout_4 (Dropout)          (None, 64)                0         \n",
      "_________________________________________________________________\n",
      "dense_2 (Dense)              (None, 5)                 325       \n",
      "_________________________________________________________________\n",
      "activation_1 (Activation)    (None, 5)                 0         \n",
      "=================================================================\n",
      "Total params: 15,941\n",
      "Trainable params: 15,941\n",
      "Non-trainable params: 0\n",
      "_________________________________________________________________\n"
     ]
    }
   ],
   "source": [
    "# Creating a recurrent neural network\n",
    "from keras.layers import *\n",
    "model=kr.models.Sequential()\n",
    "model.add(SimpleRNN(64,input_shape=(10,50),return_sequences=True))\n",
    "model.add(Dropout(0.4))      # DEACTIVATES CERTAIN PERCENTAGE OF NEURONS\n",
    "model.add(SimpleRNN(64))\n",
    "model.add(Dropout(0.3))      # USED FOR CHECKING UNDER FITTING AND OVER FITTING\n",
    "model.add(Dense(5))\n",
    "model.add(Activation('softmax'))\n",
    "model.summary()"
   ]
  },
  {
   "cell_type": "code",
   "execution_count": 37,
   "metadata": {},
   "outputs": [],
   "source": [
    "# Compiling model\n",
    "model.compile(optimizer='adam',loss='categorical_crossentropy',metrics=['acc'])"
   ]
  },
  {
   "cell_type": "code",
   "execution_count": 38,
   "metadata": {},
   "outputs": [
    {
     "name": "stdout",
     "output_type": "stream",
     "text": [
      "WARNING:tensorflow:From C:\\Users\\bhavy\\Anaconda3\\lib\\site-packages\\keras\\backend\\tensorflow_backend.py:422: The name tf.global_variables is deprecated. Please use tf.compat.v1.global_variables instead.\n",
      "\n",
      "Train on 118 samples, validate on 14 samples\n",
      "Epoch 1/40\n",
      "118/118 [==============================] - 2s 16ms/step - loss: 1.8343 - acc: 0.2542 - val_loss: 1.7095 - val_acc: 0.1429\n",
      "Epoch 2/40\n",
      "118/118 [==============================] - 0s 576us/step - loss: 1.5507 - acc: 0.2966 - val_loss: 1.6873 - val_acc: 0.1429\n",
      "Epoch 3/40\n",
      "118/118 [==============================] - 0s 509us/step - loss: 1.5503 - acc: 0.3136 - val_loss: 1.6803 - val_acc: 0.2143\n",
      "Epoch 4/40\n",
      "118/118 [==============================] - 0s 509us/step - loss: 1.3407 - acc: 0.4068 - val_loss: 1.5855 - val_acc: 0.3571\n",
      "Epoch 5/40\n",
      "118/118 [==============================] - 0s 441us/step - loss: 1.2730 - acc: 0.4407 - val_loss: 1.5321 - val_acc: 0.4286\n",
      "Epoch 6/40\n",
      "118/118 [==============================] - 0s 441us/step - loss: 1.3122 - acc: 0.4492 - val_loss: 1.5008 - val_acc: 0.4286\n",
      "Epoch 7/40\n",
      "118/118 [==============================] - 0s 475us/step - loss: 1.1504 - acc: 0.5593 - val_loss: 1.4603 - val_acc: 0.4286\n",
      "Epoch 8/40\n",
      "118/118 [==============================] - 0s 441us/step - loss: 1.0666 - acc: 0.6102 - val_loss: 1.4834 - val_acc: 0.3571\n",
      "Epoch 9/40\n",
      "118/118 [==============================] - 0s 475us/step - loss: 0.9518 - acc: 0.6695 - val_loss: 1.4877 - val_acc: 0.4286\n",
      "Epoch 10/40\n",
      "118/118 [==============================] - 0s 441us/step - loss: 0.9568 - acc: 0.6864 - val_loss: 1.4208 - val_acc: 0.4286\n",
      "Epoch 11/40\n",
      "118/118 [==============================] - 0s 441us/step - loss: 0.9131 - acc: 0.6695 - val_loss: 1.3278 - val_acc: 0.5000\n",
      "Epoch 12/40\n",
      "118/118 [==============================] - 0s 441us/step - loss: 0.8075 - acc: 0.7119 - val_loss: 1.2618 - val_acc: 0.5000\n",
      "Epoch 13/40\n",
      "118/118 [==============================] - 0s 475us/step - loss: 0.7220 - acc: 0.7203 - val_loss: 1.2574 - val_acc: 0.5714\n",
      "Epoch 14/40\n",
      "118/118 [==============================] - 0s 441us/step - loss: 0.7276 - acc: 0.7712 - val_loss: 1.1935 - val_acc: 0.5714\n",
      "Epoch 15/40\n",
      "118/118 [==============================] - 0s 475us/step - loss: 0.5877 - acc: 0.8475 - val_loss: 1.1733 - val_acc: 0.5714\n",
      "Epoch 16/40\n",
      "118/118 [==============================] - 0s 475us/step - loss: 0.5816 - acc: 0.8136 - val_loss: 1.1711 - val_acc: 0.5714\n",
      "Epoch 17/40\n",
      "118/118 [==============================] - 0s 475us/step - loss: 0.5470 - acc: 0.8559 - val_loss: 1.1542 - val_acc: 0.5714\n",
      "Epoch 18/40\n",
      "118/118 [==============================] - 0s 509us/step - loss: 0.4766 - acc: 0.8644 - val_loss: 1.1307 - val_acc: 0.5714\n",
      "Epoch 19/40\n",
      "118/118 [==============================] - 0s 509us/step - loss: 0.4247 - acc: 0.8814 - val_loss: 1.2076 - val_acc: 0.5714\n",
      "Epoch 20/40\n",
      "118/118 [==============================] - 0s 475us/step - loss: 0.3581 - acc: 0.9237 - val_loss: 1.1879 - val_acc: 0.5714\n",
      "Epoch 21/40\n",
      "118/118 [==============================] - 0s 475us/step - loss: 0.3260 - acc: 0.9322 - val_loss: 1.1112 - val_acc: 0.5714\n",
      "Epoch 22/40\n",
      "118/118 [==============================] - 0s 509us/step - loss: 0.3552 - acc: 0.9237 - val_loss: 1.1158 - val_acc: 0.5714\n",
      "Epoch 23/40\n",
      "118/118 [==============================] - 0s 542us/step - loss: 0.2854 - acc: 0.9576 - val_loss: 1.1674 - val_acc: 0.5714\n",
      "Epoch 24/40\n",
      "118/118 [==============================] - 0s 509us/step - loss: 0.2433 - acc: 0.9576 - val_loss: 1.1284 - val_acc: 0.5714\n",
      "Epoch 25/40\n",
      "118/118 [==============================] - 0s 509us/step - loss: 0.1938 - acc: 0.9831 - val_loss: 1.0614 - val_acc: 0.5714\n",
      "Epoch 26/40\n",
      "118/118 [==============================] - 0s 509us/step - loss: 0.1922 - acc: 0.9831 - val_loss: 1.0319 - val_acc: 0.7143\n",
      "Epoch 27/40\n",
      "118/118 [==============================] - 0s 509us/step - loss: 0.1796 - acc: 0.9831 - val_loss: 1.0583 - val_acc: 0.7143\n",
      "Epoch 28/40\n",
      "118/118 [==============================] - 0s 475us/step - loss: 0.1754 - acc: 0.9831 - val_loss: 1.0722 - val_acc: 0.7143\n",
      "Epoch 29/40\n",
      "118/118 [==============================] - 0s 441us/step - loss: 0.1691 - acc: 0.9661 - val_loss: 1.0622 - val_acc: 0.5714\n",
      "Epoch 30/40\n",
      "118/118 [==============================] - 0s 475us/step - loss: 0.1442 - acc: 0.9831 - val_loss: 1.0725 - val_acc: 0.5714\n",
      "Epoch 31/40\n",
      "118/118 [==============================] - 0s 475us/step - loss: 0.1278 - acc: 0.9746 - val_loss: 1.1154 - val_acc: 0.5714\n",
      "Epoch 32/40\n",
      "118/118 [==============================] - 0s 441us/step - loss: 0.0936 - acc: 0.9915 - val_loss: 1.1264 - val_acc: 0.7143\n",
      "Epoch 33/40\n",
      "118/118 [==============================] - 0s 475us/step - loss: 0.1056 - acc: 0.9831 - val_loss: 1.0249 - val_acc: 0.7143\n",
      "Epoch 34/40\n",
      "118/118 [==============================] - 0s 441us/step - loss: 0.0940 - acc: 0.9915 - val_loss: 0.9452 - val_acc: 0.7143\n",
      "Epoch 35/40\n",
      "118/118 [==============================] - 0s 610us/step - loss: 0.0704 - acc: 0.9915 - val_loss: 0.9551 - val_acc: 0.7143\n",
      "Epoch 36/40\n",
      "118/118 [==============================] - 0s 576us/step - loss: 0.0769 - acc: 1.0000 - val_loss: 0.9874 - val_acc: 0.7143\n",
      "Epoch 37/40\n",
      "118/118 [==============================] - 0s 610us/step - loss: 0.0615 - acc: 1.0000 - val_loss: 0.9984 - val_acc: 0.7143\n",
      "Epoch 38/40\n",
      "118/118 [==============================] - 0s 509us/step - loss: 0.0704 - acc: 0.9915 - val_loss: 0.9532 - val_acc: 0.7143\n",
      "Epoch 39/40\n",
      "118/118 [==============================] - 0s 576us/step - loss: 0.0609 - acc: 1.0000 - val_loss: 0.9679 - val_acc: 0.7143\n",
      "Epoch 40/40\n",
      "118/118 [==============================] - 0s 644us/step - loss: 0.0533 - acc: 1.0000 - val_loss: 0.9931 - val_acc: 0.6429\n"
     ]
    },
    {
     "data": {
      "text/plain": [
       "<keras.callbacks.callbacks.History at 0x27683809048>"
      ]
     },
     "execution_count": 38,
     "metadata": {},
     "output_type": "execute_result"
    }
   ],
   "source": [
    "# Training our neural network with training data\n",
    "batchsize=32\n",
    "epochs=40\n",
    "model.fit(emb_train_x,train_y,batch_size=batchsize,epochs=epochs,validation_split=0.1)"
   ]
  },
  {
   "cell_type": "code",
   "execution_count": 39,
   "metadata": {},
   "outputs": [
    {
     "name": "stdout",
     "output_type": "stream",
     "text": [
      "56/56 [==============================] - 0s 429us/step\n"
     ]
    },
    {
     "data": {
      "text/plain": [
       "[1.557425584111895, 0.5357142686843872]"
      ]
     },
     "execution_count": 39,
     "metadata": {},
     "output_type": "execute_result"
    }
   ],
   "source": [
    "# Evaluating our model on test data\n",
    "model.evaluate(emb_test_x,test_y)"
   ]
  },
  {
   "cell_type": "markdown",
   "metadata": {},
   "source": [
    "# Predicting emojis"
   ]
  },
  {
   "cell_type": "code",
   "execution_count": 40,
   "metadata": {},
   "outputs": [],
   "source": [
    "# predicting emojis using our rnn model\n",
    "pred=model.predict_classes(emb_test_x)"
   ]
  },
  {
   "cell_type": "code",
   "execution_count": 42,
   "metadata": {},
   "outputs": [
    {
     "name": "stdout",
     "output_type": "stream",
     "text": [
      "I want to eat    🍴\n",
      "\n",
      "he did not answer    😓\n",
      "\n",
      "he got a raise    😓\n",
      "\n",
      "she got me a present    😓\n",
      "\n",
      "ha ha ha it was so funny    😁\n",
      "\n",
      "he is a good friend    😁\n",
      "\n",
      "I am upset    😓\n",
      "\n",
      "We had such a lovely dinner tonight    😁\n",
      "\n",
      "where is the food    🍴\n",
      "\n",
      "Stop making this joke ha ha ha    😁\n",
      "\n",
      "where is the ball    ⚾\n",
      "\n",
      "work is hard    😓\n",
      "\n",
      "This girl is messing with me    😁\n",
      "\n",
      "are you serious ha ha    😓\n",
      "\n",
      "Let us go play baseball    ⚾\n",
      "\n",
      "This stupid grader is not working    😓\n",
      "\n",
      "work is horrible    😓\n",
      "\n",
      "Congratulation for having a baby    😁\n",
      "\n",
      "stop messing around    🍴\n",
      "\n",
      "any suggestions for dinner    🍴\n",
      "\n",
      "I love taking breaks    😓\n",
      "\n",
      "you brighten my day    ❤️\n",
      "\n",
      "I boiled rice    🍴\n",
      "\n",
      "she is a bully    😁\n",
      "\n",
      "Why are you feeling bad    😓\n",
      "\n",
      "I am upset    😓\n",
      "\n",
      "I worked during my birthday    ⚾\n",
      "\n",
      "My grandmother is the love of my life    😁\n",
      "\n",
      "enjoy your break    ⚾\n",
      "\n",
      "valentine day is near    😁\n",
      "\n"
     ]
    }
   ],
   "source": [
    "# Displaying result\n",
    "for i in range(30):\n",
    "    print(' '.join(test_x[i]),'  ',emoji.emojize(emoji_dictionary[str(pred[i])]))\n",
    "    print()"
   ]
  }
 ],
 "metadata": {
  "kernelspec": {
   "display_name": "Python 3",
   "language": "python",
   "name": "python3"
  },
  "language_info": {
   "codemirror_mode": {
    "name": "ipython",
    "version": 3
   },
   "file_extension": ".py",
   "mimetype": "text/x-python",
   "name": "python",
   "nbconvert_exporter": "python",
   "pygments_lexer": "ipython3",
   "version": "3.7.6"
  }
 },
 "nbformat": 4,
 "nbformat_minor": 4
}
